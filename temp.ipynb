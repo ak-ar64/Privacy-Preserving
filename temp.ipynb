{
 "cells": [
  {
   "cell_type": "code",
   "execution_count": 8,
   "metadata": {},
   "outputs": [],
   "source": [
    "from phe import paillier"
   ]
  },
  {
   "cell_type": "code",
   "execution_count": 9,
   "metadata": {},
   "outputs": [],
   "source": [
    "def generate_keypair():\n",
    "    \"\"\"\n",
    "    Generate a new Paillier key pair.\n",
    "    \"\"\"\n",
    "    return paillier.generate_paillier_keypair()\n",
    "\n",
    "\n",
    "def encrypt_message(public_key, message):\n",
    "    \"\"\"\n",
    "    Encrypt a message using Paillier public key.\n",
    "    \"\"\"\n",
    "    return public_key.encrypt(message)\n",
    "\n",
    "\n",
    "def decrypt_message(private_key, encrypted_message):\n",
    "    \"\"\"\n",
    "    Decrypt an encrypted message using Paillier private key.\n",
    "    \"\"\"\n",
    "    return private_key.decrypt(encrypted_message)\n",
    "\n",
    "\n",
    "def add_encrypted_messages(encrypted_message1, encrypted_message2):\n",
    "    \"\"\"\n",
    "    Add two encrypted messages together.\n",
    "    \"\"\"\n",
    "    return encrypted_message1 + encrypted_message2"
   ]
  },
  {
   "cell_type": "code",
   "execution_count": 10,
   "metadata": {},
   "outputs": [
    {
     "name": "stdout",
     "output_type": "stream",
     "text": [
      "Encrypted message: <phe.paillier.EncryptedNumber object at 0x000001451075D610>\n",
      "Decrypted message: 42\n",
      "Encrypted message 1: <phe.paillier.EncryptedNumber object at 0x000001451075DB50>\n",
      "Encrypted message 2: <phe.paillier.EncryptedNumber object at 0x000001451075D490>\n",
      "Sum of encrypted messages: <phe.paillier.EncryptedNumber object at 0x00000145106B3F10>\n",
      "Decrypted sum: 30\n"
     ]
    },
    {
     "data": {
      "text/plain": [
       "<phe.paillier.EncryptedNumber at 0x1451058a990>"
      ]
     },
     "execution_count": 10,
     "metadata": {},
     "output_type": "execute_result"
    }
   ],
   "source": [
    "# Example usage:\n",
    "# Generate key pair\n",
    "public_key, private_key = generate_keypair()\n",
    "\n",
    "# Encrypt a message\n",
    "message = 42\n",
    "encrypted_message = encrypt_message(public_key, message)\n",
    "print(\"Encrypted message:\", encrypted_message)\n",
    "\n",
    "# Decrypt the encrypted message\n",
    "decrypted_message = decrypt_message(private_key, encrypted_message)\n",
    "print(\"Decrypted message:\", decrypted_message)\n",
    "\n",
    "# Add two encrypted messages together\n",
    "message1 = 10\n",
    "message2 = 20\n",
    "encrypted_message1 = encrypt_message(public_key, message1)\n",
    "encrypted_message2 = encrypt_message(public_key, message2)\n",
    "print(\"Encrypted message 1:\", encrypted_message1)\n",
    "print(\"Encrypted message 2:\", encrypted_message2)\n",
    "sum_encrypted_messages = add_encrypted_messages(encrypted_message1, encrypted_message2)\n",
    "print(\"Sum of encrypted messages:\", sum_encrypted_messages)\n",
    "\n",
    "# Decrypt the sum of encrypted messages\n",
    "decrypted_sum = decrypt_message(private_key, sum_encrypted_messages)\n",
    "print(\"Decrypted sum:\", decrypted_sum)\n",
    "\n",
    "\n",
    "import numpy as np\n",
    "\n",
    "np.mean([encrypted_message1])"
   ]
  },
  {
   "cell_type": "code",
   "execution_count": 11,
   "metadata": {},
   "outputs": [
    {
     "name": "stdout",
     "output_type": "stream",
     "text": [
      "Encrypted message (ciphertext): 6501337360298062436993829013096155033304483037311976401170833173744741293350993917691660777354894495195881419670763874042720083863425640323062719963356748360826703323821562705981132950702572468698187442428256575178678646527138994440077010715996974427062511462712276280139388651415149048612762364859537190967415729762554385717806063159145485873077167771244210494945676919828064712566462955871113282232056546515416765863395560265803685454506477041841145586975076529489482207238832232784561080741838743064360519093731086959506542416909419604765632473879439119230067317754150661148061950144600935146479977068486733349550894655331271833058142530541179244553334546017658951228913982825941396372364067397249218779702725033639892367721021672537658801568660630618287912627649886458606168931319899560370998734047042931183217257027925804324646620930423565401704822695682412723962432470345294438364624693362895224113319763848945380520100946786683626139974804771561862198097386595790828119240892707152907006116312883516640425099752987719873479840126045242083235263358752602829920515282636330849818264581552347010511252094254512915528308765199749980167257538598899575803829156813562349030805939329475298146020811915847670768200417557269935651538488779805737583770546092921196885315083128375364185769615656219745885316735639281707152067945357302467476055990250513977616176747142255297797999303768215295868345999867269819818708615978763047146032768667743516612805563126267321324888260321891508309691294055977633109210454890650296241818848888487320473936687004975351990690146530960523249540625409277819100718722071503027455353413079931888564354444693612679971014820656203905726752104454291947056751843842645695955338695211495045158899357895876773357224422080756392428743981811293384445412107267180560989172015801015094979569238667487048755820386825489244104223661383\n",
      "Decrypted message: 42\n",
      "Sum of encrypted messages (ciphertext): 1327276795614776327084582300453922677457297258600062790510593748125392545210869569682199267310530584474088967231077020506394167266800052310013232214217382350598095979348637934688781837640502728596035431268399691909899891254292088754881441202208033833283178548046010481832348290405426729170357441631694385600915331904053057289633623309155156054336654725005986071041226486509279407938815465328921076169890128157950063574890198857892571213703006292976360843599073630047363800155826465307656549324012421600508213149817885618141638571639382314521172517479096730110476540987655419926687460715673402425125025312438251144078817980369540969571436812441334376276203738539835385543172586477064763797072871563898156842218400152597926265576720578896510688892769673889762524847658662166631309847891552444243312895846553612452310840515752492880688729907723067124947832822512002295774607253011547602399574358451379296859557202322128786625281683218722159446677216483480803860358954999281708225335577977579215413914050105470122741324563914746042472229710021889277127809471849699792058710848121437625466485886545673143710944062224285233351628772914671547449104739941571773498808947503125176638497840650502788355895049926573836253064321568379507204257894302408549120104483354678525179331193050791054753216004752058747634943302462982159642826222682237349857895103916232708175704921053157561134324454084873824677186957657420825664878897079356217730758349738107316423423410262833395333027859406432425546325966458142748679411008619491183640191545481884068167283134072022154048043486718518588722999326577896901618934268916268069398117031180767700206627960117409505302357699960046799106975320001232725172124494167255430872545803345763614000313993892639586634301898627728762005492743311030368740400699382802256654546482407305796556423689418313528878159884957027992571707822037\n",
      "Decrypted sum: 30\n"
     ]
    }
   ],
   "source": [
    "from Crypto.Util.number import bytes_to_long, long_to_bytes\n",
    "from phe import paillier\n",
    "\n",
    "\n",
    "def generate_keypair():\n",
    "    return paillier.generate_paillier_keypair()\n",
    "\n",
    "\n",
    "def encrypt_message(public_key, message):\n",
    "    return public_key.encrypt(message)\n",
    "\n",
    "\n",
    "def decrypt_message(private_key, encrypted_message):\n",
    "    return private_key.decrypt(encrypted_message)\n",
    "\n",
    "\n",
    "def add_encrypted_messages(encrypted_message1, encrypted_message2):\n",
    "    return encrypted_message1 + encrypted_message2\n",
    "\n",
    "public_key, private_key = generate_keypair()\n",
    "\n",
    "message = 42\n",
    "encrypted_message = encrypt_message(public_key, message)\n",
    "print(\"Encrypted message (ciphertext):\", encrypted_message.ciphertext())\n",
    "\n",
    "decrypted_message = decrypt_message(private_key, encrypted_message)\n",
    "print(\"Decrypted message:\", decrypted_message)\n",
    "\n",
    "message1 = 10\n",
    "message2 = 20\n",
    "encrypted_message1 = encrypt_message(public_key, message1)\n",
    "encrypted_message2 = encrypt_message(public_key, message2)\n",
    "sum_encrypted_messages = add_encrypted_messages(encrypted_message1, encrypted_message2)\n",
    "print(\"Sum of encrypted messages (ciphertext):\", sum_encrypted_messages.ciphertext())\n",
    "\n",
    "decrypted_sum = decrypt_message(private_key, sum_encrypted_messages)\n",
    "print(\"Decrypted sum:\", decrypted_sum)"
   ]
  },
  {
   "cell_type": "code",
   "execution_count": 12,
   "metadata": {},
   "outputs": [
    {
     "data": {
      "text/plain": [
       "<phe.paillier.EncryptedNumber at 0x14510753710>"
      ]
     },
     "execution_count": 12,
     "metadata": {},
     "output_type": "execute_result"
    }
   ],
   "source": [
    "message = 42\n",
    "encrypt_message(public_key, message)"
   ]
  },
  {
   "cell_type": "code",
   "execution_count": 20,
   "metadata": {},
   "outputs": [
    {
     "ename": "AttributeError",
     "evalue": "'PaillierPublicKey' object has no attribute 'encode'",
     "output_type": "error",
     "traceback": [
      "\u001b[1;31m---------------------------------------------------------------------------\u001b[0m",
      "\u001b[1;31mAttributeError\u001b[0m                            Traceback (most recent call last)",
      "Cell \u001b[1;32mIn[20], line 5\u001b[0m\n\u001b[0;32m      2\u001b[0m \u001b[38;5;28;01mimport\u001b[39;00m \u001b[38;5;21;01mbase64\u001b[39;00m\n\u001b[0;32m      4\u001b[0m \u001b[38;5;66;03m# public_key_str = public_key.to_bytes().decode('utf-8')\u001b[39;00m\n\u001b[1;32m----> 5\u001b[0m base64_public_key_str \u001b[38;5;241m=\u001b[39m base64\u001b[38;5;241m.\u001b[39mb64encode(\u001b[43mpublic_key\u001b[49m\u001b[38;5;241;43m.\u001b[39;49m\u001b[43mencode\u001b[49m(\u001b[38;5;124m'\u001b[39m\u001b[38;5;124mutf-8\u001b[39m\u001b[38;5;124m'\u001b[39m))\u001b[38;5;241m.\u001b[39mdecode(\u001b[38;5;124m'\u001b[39m\u001b[38;5;124mutf-8\u001b[39m\u001b[38;5;124m'\u001b[39m)\n",
      "\u001b[1;31mAttributeError\u001b[0m: 'PaillierPublicKey' object has no attribute 'encode'"
     ]
    }
   ],
   "source": [
    "# convert the public key to a string\n",
    "import base64\n",
    "\n",
    "# public_key_str = public_key.to_bytes().decode('utf-8')\n",
    "base64_public_key_str = base64.b64encode(public_key.encode('utf-8')).decode('utf-8')"
   ]
  },
  {
   "cell_type": "code",
   "execution_count": 21,
   "metadata": {},
   "outputs": [
    {
     "ename": "TypeError",
     "evalue": "write() argument must be str, not PaillierPublicKey",
     "output_type": "error",
     "traceback": [
      "\u001b[1;31m---------------------------------------------------------------------------\u001b[0m",
      "\u001b[1;31mTypeError\u001b[0m                                 Traceback (most recent call last)",
      "Cell \u001b[1;32mIn[21], line 2\u001b[0m\n\u001b[0;32m      1\u001b[0m \u001b[38;5;28;01mwith\u001b[39;00m \u001b[38;5;28mopen\u001b[39m(\u001b[38;5;124m\"\u001b[39m\u001b[38;5;124mpublic_key.txt\u001b[39m\u001b[38;5;124m\"\u001b[39m, \u001b[38;5;124m\"\u001b[39m\u001b[38;5;124mw\u001b[39m\u001b[38;5;124m\"\u001b[39m) \u001b[38;5;28;01mas\u001b[39;00m f:\n\u001b[1;32m----> 2\u001b[0m     \u001b[43mf\u001b[49m\u001b[38;5;241;43m.\u001b[39;49m\u001b[43mwrite\u001b[49m\u001b[43m(\u001b[49m\u001b[43mpublic_key\u001b[49m\u001b[43m)\u001b[49m\n",
      "\u001b[1;31mTypeError\u001b[0m: write() argument must be str, not PaillierPublicKey"
     ]
    }
   ],
   "source": [
    "with open(\"public_key.txt\", \"w\") as f:\n",
    "    f.write(public_key)"
   ]
  },
  {
   "cell_type": "code",
   "execution_count": 16,
   "metadata": {},
   "outputs": [
    {
     "ename": "AttributeError",
     "evalue": "'PaillierPublicKey' object has no attribute 'serialize'",
     "output_type": "error",
     "traceback": [
      "\u001b[1;31m---------------------------------------------------------------------------\u001b[0m",
      "\u001b[1;31mAttributeError\u001b[0m                            Traceback (most recent call last)",
      "Cell \u001b[1;32mIn[16], line 1\u001b[0m\n\u001b[1;32m----> 1\u001b[0m public_key_str \u001b[38;5;241m=\u001b[39m \u001b[43mpublic_key\u001b[49m\u001b[38;5;241;43m.\u001b[39;49m\u001b[43mserialize\u001b[49m()  \u001b[38;5;66;03m# Assuming public_key is a PaillierPublicKey object\u001b[39;00m\n\u001b[0;32m      2\u001b[0m private_key_str \u001b[38;5;241m=\u001b[39m private_key\u001b[38;5;241m.\u001b[39mserialize() \n",
      "\u001b[1;31mAttributeError\u001b[0m: 'PaillierPublicKey' object has no attribute 'serialize'"
     ]
    }
   ],
   "source": [
    "public_key_str = public_key.serialize()  # Assuming public_key is a PaillierPublicKey object\n",
    "private_key_str = private_key.serialize() "
   ]
  },
  {
   "cell_type": "code",
   "execution_count": 22,
   "metadata": {},
   "outputs": [],
   "source": [
    "def keypair_dump_jwk(pub, priv, date=None):\n",
    "    \"\"\"Serializer for public-private keypair, to JWK format.\"\"\"\n",
    "    from datetime import datetime\n",
    "    if date is None:\n",
    "        date = datetime.now().strftime('%Y-%m-%dT%H:%M:%S')\n",
    "\n",
    "    rec_pub = {\n",
    "        'kty': 'DAJ',\n",
    "        'alg': 'PAI-GN1',\n",
    "        'key_ops': ['encrypt'],\n",
    "        'n': phe.util.int_to_base64(pub.n),\n",
    "        'kid': 'Paillier public key generated by phe on {}'.format(date)\n",
    "    }\n",
    "\n",
    "    rec_priv = {\n",
    "        'kty': 'DAJ',\n",
    "        'key_ops': ['decrypt'],\n",
    "        'p': phe.util.int_to_base64(priv.p),\n",
    "        'q': phe.util.int_to_base64(priv.q),\n",
    "        'kid': 'Paillier private key generated by phe on {}'.format(date)\n",
    "    }\n",
    "\n",
    "    priv_jwk = json.dumps(rec_priv)\n",
    "    pub_jwk = json.dumps(rec_pub)\n",
    "    return pub_jwk, priv_jwk"
   ]
  },
  {
   "cell_type": "code",
   "execution_count": 25,
   "metadata": {},
   "outputs": [],
   "source": [
    "import pandas as pd\n",
    "\n",
    "df = pd.read_csv(\"dataset.csv\").sample(50)\n",
    "df.to_csv(\"sample.csv\", index=False)"
   ]
  },
  {
   "cell_type": "code",
   "execution_count": 38,
   "metadata": {},
   "outputs": [
    {
     "name": "stdout",
     "output_type": "stream",
     "text": [
      "Base64 representation: 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\n"
     ]
    }
   ],
   "source": [
    "import base64\n",
    "\n",
    "def int_to_base64(number):\n",
    "    # Convert the integer to bytes\n",
    "    byte_data = number.to_bytes((number.bit_length() + 7) // 8, 'big')\n",
    "    # Encode the bytes to Base64\n",
    "    base64_data = base64.b64encode(byte_data)\n",
    "    # Convert bytes to string\n",
    "    base64_str = base64_data.decode('utf-8')\n",
    "    return base64_str\n",
    "\n",
    "# Example usage:\n",
    "number = 123456789\n",
    "base64_representation = int_to_base64(3198766010340609730712404057309721157119988387903543777596039936814374877883441019216896013252286229169157798603236785803053039905662161606732314191945557102876590946435694778827828846556205151813786207121700052078829908267313392489614396044105308564460833635484649688476977332194813056050433569058961304675580954046348644466736506738137417437241619662964708141049302511670817169956468676252642121907933814643014756087106844573740027582793788421643450957221173966091742021361272115340854060048735325257393258310416634434671749963311713058710356404717665967926649681849655026625169801855155777785311634931550789702898674153103406601081253213872700232361660582722954244825946102673614117114112442247379540108792561096037457394277782157600970243262842375373386690056092666808626916224627124833929435843621229685301856821246596877825926311760302623754024628312184785010413671871826072146869519582902384634693206017949832383277123**10)\n",
    "print(\"Base64 representation:\", base64_representation)\n"
   ]
  },
  {
   "cell_type": "code",
   "execution_count": 33,
   "metadata": {},
   "outputs": [
    {
     "ename": "AttributeError",
     "evalue": "'EncryptedNumber' object has no attribute 'to_bytes'",
     "output_type": "error",
     "traceback": [
      "\u001b[1;31m---------------------------------------------------------------------------\u001b[0m",
      "\u001b[1;31mAttributeError\u001b[0m                            Traceback (most recent call last)",
      "Cell \u001b[1;32mIn[33], line 12\u001b[0m\n\u001b[0;32m     10\u001b[0m \u001b[38;5;66;03m# Example usage:\u001b[39;00m\n\u001b[0;32m     11\u001b[0m number \u001b[38;5;241m=\u001b[39m \u001b[38;5;241m123456789\u001b[39m\n\u001b[1;32m---> 12\u001b[0m serialized_representation \u001b[38;5;241m=\u001b[39m \u001b[43mint_to_serializable\u001b[49m\u001b[43m(\u001b[49m\u001b[43mencrypt_message\u001b[49m\u001b[43m(\u001b[49m\u001b[43mpublic_key\u001b[49m\u001b[43m,\u001b[49m\u001b[43m \u001b[49m\u001b[43mmessage1\u001b[49m\u001b[43m)\u001b[49m\u001b[43m)\u001b[49m\n\u001b[0;32m     13\u001b[0m \u001b[38;5;28mprint\u001b[39m(\u001b[38;5;124m\"\u001b[39m\u001b[38;5;124mSerialized representation:\u001b[39m\u001b[38;5;124m\"\u001b[39m, serialized_representation)\n",
      "Cell \u001b[1;32mIn[33], line 5\u001b[0m, in \u001b[0;36mint_to_serializable\u001b[1;34m(number)\u001b[0m\n\u001b[0;32m      3\u001b[0m \u001b[38;5;28;01mdef\u001b[39;00m \u001b[38;5;21mint_to_serializable\u001b[39m(number):\n\u001b[0;32m      4\u001b[0m     \u001b[38;5;66;03m# Convert the integer to bytes\u001b[39;00m\n\u001b[1;32m----> 5\u001b[0m     byte_data \u001b[38;5;241m=\u001b[39m \u001b[43mnumber\u001b[49m\u001b[38;5;241;43m.\u001b[39;49m\u001b[43mto_bytes\u001b[49m((number\u001b[38;5;241m.\u001b[39mbit_length() \u001b[38;5;241m+\u001b[39m \u001b[38;5;241m7\u001b[39m) \u001b[38;5;241m/\u001b[39m\u001b[38;5;241m/\u001b[39m \u001b[38;5;241m8\u001b[39m, \u001b[38;5;124m'\u001b[39m\u001b[38;5;124mbig\u001b[39m\u001b[38;5;124m'\u001b[39m)\n\u001b[0;32m      6\u001b[0m     \u001b[38;5;66;03m# Encode the bytes in Base64 for portability\u001b[39;00m\n\u001b[0;32m      7\u001b[0m     base64_data \u001b[38;5;241m=\u001b[39m base64\u001b[38;5;241m.\u001b[39mb64encode(byte_data)\n",
      "\u001b[1;31mAttributeError\u001b[0m: 'EncryptedNumber' object has no attribute 'to_bytes'"
     ]
    }
   ],
   "source": [
    "import base64\n",
    "\n",
    "def int_to_serializable(number):\n",
    "    # Convert the integer to bytes\n",
    "    byte_data = number.to_bytes((number.bit_length() + 7) // 8, 'big')\n",
    "    # Encode the bytes in Base64 for portability\n",
    "    base64_data = base64.b64encode(byte_data)\n",
    "    return base64_data\n",
    "\n",
    "# Example usage:\n",
    "number = 123456789\n",
    "serialized_representation = int_to_serializable(encrypt_message(public_key, message1))\n",
    "print(\"Serialized representation:\", serialized_representation)\n"
   ]
  },
  {
   "cell_type": "code",
   "execution_count": 35,
   "metadata": {},
   "outputs": [
    {
     "data": {
      "text/plain": [
       "3198766010340609730712404057309721157119988387903543777596039936814374877883441019216896013252286229169157798603236785803053039905662161606732314191945557102876590946435694778827828846556205151813786207121700052078829908267313392489614396044105308564460833635484649688476977332194813056050433569058961304675580954046348644466736506738137417437241619662964708141049302511670817169956468676252642121907933814643014756087106844573740027582793788421643450957221173966091742021361272115340854060048735325257393258310416634434671749963311713058710356404717665967926649681849655026625169801855155777785311634931550789702898674153103406601081253213872700232361660582722954244825946102673614117114112442247379540108792561096037457394277782157600970243262842375373386690056092666808626916224627124833929435843621229685301856821246596877825926311760302623754024628312184785010413671871826072146869519582902384634693206017949832383277123"
      ]
     },
     "execution_count": 35,
     "metadata": {},
     "output_type": "execute_result"
    }
   ],
   "source": [
    "public_key.n"
   ]
  },
  {
   "cell_type": "code",
   "execution_count": 40,
   "metadata": {},
   "outputs": [
    {
     "data": {
      "text/plain": [
       "False"
      ]
     },
     "execution_count": 40,
     "metadata": {},
     "output_type": "execute_result"
    }
   ],
   "source": [
    "def base64_to_int(base64_str):\n",
    "    byte_data = base64.b64decode(base64_str.encode('utf-8'))\n",
    "    number = int.from_bytes(byte_data, 'big')\n",
    "    return number\n",
    "\n",
    "def int_to_base64(number):\n",
    "    byte_data = number.to_bytes((number.bit_length() + 7) // 8, 'big')\n",
    "    base64_data = base64.b64encode(byte_data)\n",
    "    base64_str = base64_data.decode('utf-8')\n",
    "    return base64_str\n",
    "\n",
    "encrypt_message(public_key, message1).ciphertext()== base64_to_int(int_to_base64(encrypt_message(public_key, message1).ciphertext()))"
   ]
  },
  {
   "cell_type": "code",
   "execution_count": 45,
   "metadata": {},
   "outputs": [
    {
     "data": {
      "text/plain": [
       "True"
      ]
     },
     "execution_count": 45,
     "metadata": {},
     "output_type": "execute_result"
    }
   ],
   "source": [
    "message1 == base64_to_int(int_to_base64(message1))"
   ]
  },
  {
   "cell_type": "code",
   "execution_count": 46,
   "metadata": {},
   "outputs": [
    {
     "ename": "ValueError",
     "evalue": "Integer needs to be within +/- 1066255336780203243570801352436573719039996129301181259198679978938124959294480339738965337750762076389719266201078928601017679968554053868910771397315185700958863648811898259609276282185401717271262069040566684026276636089104464163204798681368436188153611211828216562825659110731604352016811189686320434891860318015449548155578835579379139145747206554321569380349767503890272389985489558750880707302644604881004918695702281524580009194264596140547816985740391322030580673787090705113618020016245108419131086103472211478223916654437237686236785468239221989308883227283218342208389933951718592595103878310516929900966224717701135533693751071290900077453886860907651414941982034224538039038037480749126513369597520365345819131425927385866990081087614125124462230018697555602875638741542374944643145281207076561767285607082198959275308770586767541251341542770728261670137890623942024048956506527634128211564402005983277461092373 but got 6712266550317314614405407284996609838551829545568633776253192106046428893169385450409324477182413105176441832718533840308810712427307543334227255138089600000686829920997558278680567286638574847685206960776386624871340341951789250363482213599748018905811878625977394048874691282037725828621191696280476885630239362093301943780347071866914610934421930111035486928903082551589234677513940896819801644452830575612678848647769612006386075279651523110875685595126867397441133379830790712135526462747196148294358119932431986122601403542733768087401999200127392977257001724375519855421414120307072915583568788382301746227272964454604354301508722739439943817691208106931698571050205608405013022606038592860073967189254426464406341314553441661010265126914284123985130581093886588698659602605846884466106310408410647452525065976819240427171312116371987739139465625784007527935752833089381207544698769573105713469522724287638797021753440638348735289697700484873958358327108466114512753802688639884012677475197565573170609976533876882903131561274426771130653119475703651009736516786995936327740471858267673053065601029668217801452405194664090710991787266546869053474332580151946593541121159115545194662301294709740921876433317814548472055037092494265809176778970465328893748687201689588956342599477138610554082530347832758399060372468287016857075840104090147165528773145294067497791461858734787593675576109911872066406697788340471873450054456187043212409269975851992677545292503643557703997490140450284268428425382600375152595455726032695868481570134623894255325495708781470248386640652241143486532260108885636501722071062761641047092380849699176937078018581225338271718509586987024322995070799472316613243146746546046493721443067195864581799079063726648639879023940632803514673083872471192200988289504747385161776028394924561671644375948697942720095228533726502",
     "output_type": "error",
     "traceback": [
      "\u001b[1;31m---------------------------------------------------------------------------\u001b[0m",
      "\u001b[1;31mValueError\u001b[0m                                Traceback (most recent call last)",
      "Cell \u001b[1;32mIn[46], line 1\u001b[0m\n\u001b[1;32m----> 1\u001b[0m int_to_base64(\u001b[43mencrypt_message\u001b[49m\u001b[43m(\u001b[49m\u001b[43mpublic_key\u001b[49m\u001b[43m,\u001b[49m\u001b[43m \u001b[49m\u001b[43mmessage1\u001b[49m\u001b[43m)\u001b[49m\u001b[38;5;241m.\u001b[39mciphertext())\n",
      "Cell \u001b[1;32mIn[11], line 10\u001b[0m, in \u001b[0;36mencrypt_message\u001b[1;34m(public_key, message)\u001b[0m\n\u001b[0;32m      9\u001b[0m \u001b[38;5;28;01mdef\u001b[39;00m \u001b[38;5;21mencrypt_message\u001b[39m(public_key, message):\n\u001b[1;32m---> 10\u001b[0m     \u001b[38;5;28;01mreturn\u001b[39;00m \u001b[43mpublic_key\u001b[49m\u001b[38;5;241;43m.\u001b[39;49m\u001b[43mencrypt\u001b[49m\u001b[43m(\u001b[49m\u001b[43mmessage\u001b[49m\u001b[43m)\u001b[49m\n",
      "File \u001b[1;32m~\\AppData\\Roaming\\Python\\Python311\\site-packages\\phe\\paillier.py:173\u001b[0m, in \u001b[0;36mPaillierPublicKey.encrypt\u001b[1;34m(self, value, precision, r_value)\u001b[0m\n\u001b[0;32m    171\u001b[0m     encoding \u001b[38;5;241m=\u001b[39m value\n\u001b[0;32m    172\u001b[0m \u001b[38;5;28;01melse\u001b[39;00m:\n\u001b[1;32m--> 173\u001b[0m     encoding \u001b[38;5;241m=\u001b[39m \u001b[43mEncodedNumber\u001b[49m\u001b[38;5;241;43m.\u001b[39;49m\u001b[43mencode\u001b[49m\u001b[43m(\u001b[49m\u001b[38;5;28;43mself\u001b[39;49m\u001b[43m,\u001b[49m\u001b[43m \u001b[49m\u001b[43mvalue\u001b[49m\u001b[43m,\u001b[49m\u001b[43m \u001b[49m\u001b[43mprecision\u001b[49m\u001b[43m)\u001b[49m\n\u001b[0;32m    175\u001b[0m \u001b[38;5;28;01mreturn\u001b[39;00m \u001b[38;5;28mself\u001b[39m\u001b[38;5;241m.\u001b[39mencrypt_encoded(encoding, r_value)\n",
      "File \u001b[1;32m~\\AppData\\Roaming\\Python\\Python311\\site-packages\\phe\\encoding.py:195\u001b[0m, in \u001b[0;36mEncodedNumber.encode\u001b[1;34m(cls, public_key, scalar, precision, max_exponent)\u001b[0m\n\u001b[0;32m    191\u001b[0m int_rep \u001b[38;5;241m=\u001b[39m \u001b[38;5;28mround\u001b[39m(fractions\u001b[38;5;241m.\u001b[39mFraction(scalar)\n\u001b[0;32m    192\u001b[0m                 \u001b[38;5;241m*\u001b[39m fractions\u001b[38;5;241m.\u001b[39mFraction(\u001b[38;5;28mcls\u001b[39m\u001b[38;5;241m.\u001b[39mBASE) \u001b[38;5;241m*\u001b[39m\u001b[38;5;241m*\u001b[39m \u001b[38;5;241m-\u001b[39mexponent)\n\u001b[0;32m    194\u001b[0m \u001b[38;5;28;01mif\u001b[39;00m \u001b[38;5;28mabs\u001b[39m(int_rep) \u001b[38;5;241m>\u001b[39m public_key\u001b[38;5;241m.\u001b[39mmax_int:\n\u001b[1;32m--> 195\u001b[0m     \u001b[38;5;28;01mraise\u001b[39;00m \u001b[38;5;167;01mValueError\u001b[39;00m(\u001b[38;5;124m'\u001b[39m\u001b[38;5;124mInteger needs to be within +/- \u001b[39m\u001b[38;5;132;01m%d\u001b[39;00m\u001b[38;5;124m but got \u001b[39m\u001b[38;5;132;01m%d\u001b[39;00m\u001b[38;5;124m'\u001b[39m\n\u001b[0;32m    196\u001b[0m                      \u001b[38;5;241m%\u001b[39m (public_key\u001b[38;5;241m.\u001b[39mmax_int, int_rep))\n\u001b[0;32m    198\u001b[0m \u001b[38;5;66;03m# Wrap negative numbers by adding n\u001b[39;00m\n\u001b[0;32m    199\u001b[0m \u001b[38;5;28;01mreturn\u001b[39;00m \u001b[38;5;28mcls\u001b[39m(public_key, int_rep \u001b[38;5;241m%\u001b[39m public_key\u001b[38;5;241m.\u001b[39mn, exponent)\n",
      "\u001b[1;31mValueError\u001b[0m: Integer needs to be within +/- 1066255336780203243570801352436573719039996129301181259198679978938124959294480339738965337750762076389719266201078928601017679968554053868910771397315185700958863648811898259609276282185401717271262069040566684026276636089104464163204798681368436188153611211828216562825659110731604352016811189686320434891860318015449548155578835579379139145747206554321569380349767503890272389985489558750880707302644604881004918695702281524580009194264596140547816985740391322030580673787090705113618020016245108419131086103472211478223916654437237686236785468239221989308883227283218342208389933951718592595103878310516929900966224717701135533693751071290900077453886860907651414941982034224538039038037480749126513369597520365345819131425927385866990081087614125124462230018697555602875638741542374944643145281207076561767285607082198959275308770586767541251341542770728261670137890623942024048956506527634128211564402005983277461092373 but got 6712266550317314614405407284996609838551829545568633776253192106046428893169385450409324477182413105176441832718533840308810712427307543334227255138089600000686829920997558278680567286638574847685206960776386624871340341951789250363482213599748018905811878625977394048874691282037725828621191696280476885630239362093301943780347071866914610934421930111035486928903082551589234677513940896819801644452830575612678848647769612006386075279651523110875685595126867397441133379830790712135526462747196148294358119932431986122601403542733768087401999200127392977257001724375519855421414120307072915583568788382301746227272964454604354301508722739439943817691208106931698571050205608405013022606038592860073967189254426464406341314553441661010265126914284123985130581093886588698659602605846884466106310408410647452525065976819240427171312116371987739139465625784007527935752833089381207544698769573105713469522724287638797021753440638348735289697700484873958358327108466114512753802688639884012677475197565573170609976533876882903131561274426771130653119475703651009736516786995936327740471858267673053065601029668217801452405194664090710991787266546869053474332580151946593541121159115545194662301294709740921876433317814548472055037092494265809176778970465328893748687201689588956342599477138610554082530347832758399060372468287016857075840104090147165528773145294067497791461858734787593675576109911872066406697788340471873450054456187043212409269975851992677545292503643557703997490140450284268428425382600375152595455726032695868481570134623894255325495708781470248386640652241143486532260108885636501722071062761641047092380849699176937078018581225338271718509586987024322995070799472316613243146746546046493721443067195864581799079063726648639879023940632803514673083872471192200988289504747385161776028394924561671644375948697942720095228533726502"
     ]
    }
   ],
   "source": [
    "int_to_base64(encrypt_message(public_key, message1).ciphertext())"
   ]
  },
  {
   "cell_type": "code",
   "execution_count": 47,
   "metadata": {},
   "outputs": [],
   "source": [
    "def int_to_base64(number):\n",
    "    byte_data = long_to_bytes(number)\n",
    "    base64_data = base64.b64encode(byte_data)\n",
    "    base64_str = base64_data.decode('utf-8')\n",
    "    return base64_str\n",
    "\n",
    "def base64_to_int(base64_str):\n",
    "    byte_data = base64.b64decode(base64_str.encode('utf-8'))\n",
    "    number = bytes_to_long(byte_data)\n",
    "    return number"
   ]
  },
  {
   "cell_type": "code",
   "execution_count": 55,
   "metadata": {},
   "outputs": [
    {
     "data": {
      "text/plain": [
       "2057787133168287173638855715896630626599807384879490305183782309197863991983800139829173433702428718573318263622649557900994723557536079226388138221792678105602829599093597360737610244636037658987448947980259980323954929995604805841378823956201720594956043256031090919612330042895729230279021834190458510674148623168199716674829293874156299008784300348132857554862983757958427777767293917261540788944978338303284799863282479008142587936519983206737980877918628041"
      ]
     },
     "execution_count": 55,
     "metadata": {},
     "output_type": "execute_result"
    }
   ],
   "source": [
    "private_key.q"
   ]
  },
  {
   "cell_type": "code",
   "execution_count": 56,
   "metadata": {},
   "outputs": [],
   "source": [
    "cipher1 = encrypt_message(public_key, 57)\n",
    "cipher2 = encrypt_message(public_key, 43)"
   ]
  },
  {
   "cell_type": "code",
   "execution_count": 57,
   "metadata": {},
   "outputs": [
    {
     "ename": "TypeError",
     "evalue": "Expected encrypted_number to be an EncryptedNumber not: <class 'int'>",
     "output_type": "error",
     "traceback": [
      "\u001b[1;31m---------------------------------------------------------------------------\u001b[0m",
      "\u001b[1;31mTypeError\u001b[0m                                 Traceback (most recent call last)",
      "Cell \u001b[1;32mIn[57], line 1\u001b[0m\n\u001b[1;32m----> 1\u001b[0m \u001b[43mdecrypt_message\u001b[49m\u001b[43m(\u001b[49m\u001b[43mprivate_key\u001b[49m\u001b[43m,\u001b[49m\u001b[43m \u001b[49m\u001b[43mcipher1\u001b[49m\u001b[38;5;241;43m.\u001b[39;49m\u001b[43mciphertext\u001b[49m\u001b[43m(\u001b[49m\u001b[43m)\u001b[49m\u001b[43m \u001b[49m\u001b[38;5;241;43m+\u001b[39;49m\u001b[43m \u001b[49m\u001b[43mcipher2\u001b[49m\u001b[38;5;241;43m.\u001b[39;49m\u001b[43mciphertext\u001b[49m\u001b[43m(\u001b[49m\u001b[43m)\u001b[49m\u001b[43m)\u001b[49m\n",
      "Cell \u001b[1;32mIn[11], line 14\u001b[0m, in \u001b[0;36mdecrypt_message\u001b[1;34m(private_key, encrypted_message)\u001b[0m\n\u001b[0;32m     13\u001b[0m \u001b[38;5;28;01mdef\u001b[39;00m \u001b[38;5;21mdecrypt_message\u001b[39m(private_key, encrypted_message):\n\u001b[1;32m---> 14\u001b[0m     \u001b[38;5;28;01mreturn\u001b[39;00m \u001b[43mprivate_key\u001b[49m\u001b[38;5;241;43m.\u001b[39;49m\u001b[43mdecrypt\u001b[49m\u001b[43m(\u001b[49m\u001b[43mencrypted_message\u001b[49m\u001b[43m)\u001b[49m\n",
      "File \u001b[1;32m~\\AppData\\Roaming\\Python\\Python311\\site-packages\\phe\\paillier.py:290\u001b[0m, in \u001b[0;36mPaillierPrivateKey.decrypt\u001b[1;34m(self, encrypted_number)\u001b[0m\n\u001b[0;32m    268\u001b[0m \u001b[38;5;28;01mdef\u001b[39;00m \u001b[38;5;21mdecrypt\u001b[39m(\u001b[38;5;28mself\u001b[39m, encrypted_number):\n\u001b[0;32m    269\u001b[0m \u001b[38;5;250m    \u001b[39m\u001b[38;5;124;03m\"\"\"Return the decrypted & decoded plaintext of *encrypted_number*.\u001b[39;00m\n\u001b[0;32m    270\u001b[0m \n\u001b[0;32m    271\u001b[0m \u001b[38;5;124;03m    Uses the default :class:`EncodedNumber`, if using an alternative encoding\u001b[39;00m\n\u001b[1;32m   (...)\u001b[0m\n\u001b[0;32m    288\u001b[0m \u001b[38;5;124;03m        different key.\u001b[39;00m\n\u001b[0;32m    289\u001b[0m \u001b[38;5;124;03m    \"\"\"\u001b[39;00m\n\u001b[1;32m--> 290\u001b[0m     encoded \u001b[38;5;241m=\u001b[39m \u001b[38;5;28;43mself\u001b[39;49m\u001b[38;5;241;43m.\u001b[39;49m\u001b[43mdecrypt_encoded\u001b[49m\u001b[43m(\u001b[49m\u001b[43mencrypted_number\u001b[49m\u001b[43m)\u001b[49m\n\u001b[0;32m    291\u001b[0m     \u001b[38;5;28;01mreturn\u001b[39;00m encoded\u001b[38;5;241m.\u001b[39mdecode()\n",
      "File \u001b[1;32m~\\AppData\\Roaming\\Python\\Python311\\site-packages\\phe\\paillier.py:314\u001b[0m, in \u001b[0;36mPaillierPrivateKey.decrypt_encoded\u001b[1;34m(self, encrypted_number, Encoding)\u001b[0m\n\u001b[0;32m    294\u001b[0m \u001b[38;5;250m\u001b[39m\u001b[38;5;124;03m\"\"\"Return the :class:`EncodedNumber` decrypted from *encrypted_number*.\u001b[39;00m\n\u001b[0;32m    295\u001b[0m \n\u001b[0;32m    296\u001b[0m \u001b[38;5;124;03mArgs:\u001b[39;00m\n\u001b[1;32m   (...)\u001b[0m\n\u001b[0;32m    311\u001b[0m \u001b[38;5;124;03m    different key.\u001b[39;00m\n\u001b[0;32m    312\u001b[0m \u001b[38;5;124;03m\"\"\"\u001b[39;00m\n\u001b[0;32m    313\u001b[0m \u001b[38;5;28;01mif\u001b[39;00m \u001b[38;5;129;01mnot\u001b[39;00m \u001b[38;5;28misinstance\u001b[39m(encrypted_number, EncryptedNumber):\n\u001b[1;32m--> 314\u001b[0m     \u001b[38;5;28;01mraise\u001b[39;00m \u001b[38;5;167;01mTypeError\u001b[39;00m(\u001b[38;5;124m'\u001b[39m\u001b[38;5;124mExpected encrypted_number to be an EncryptedNumber\u001b[39m\u001b[38;5;124m'\u001b[39m\n\u001b[0;32m    315\u001b[0m                     \u001b[38;5;124m'\u001b[39m\u001b[38;5;124m not: \u001b[39m\u001b[38;5;132;01m%s\u001b[39;00m\u001b[38;5;124m'\u001b[39m \u001b[38;5;241m%\u001b[39m \u001b[38;5;28mtype\u001b[39m(encrypted_number))\n\u001b[0;32m    317\u001b[0m \u001b[38;5;28;01mif\u001b[39;00m \u001b[38;5;28mself\u001b[39m\u001b[38;5;241m.\u001b[39mpublic_key \u001b[38;5;241m!=\u001b[39m encrypted_number\u001b[38;5;241m.\u001b[39mpublic_key:\n\u001b[0;32m    318\u001b[0m     \u001b[38;5;28;01mraise\u001b[39;00m \u001b[38;5;167;01mValueError\u001b[39;00m(\u001b[38;5;124m'\u001b[39m\u001b[38;5;124mencrypted_number was encrypted against a \u001b[39m\u001b[38;5;124m'\u001b[39m\n\u001b[0;32m    319\u001b[0m                      \u001b[38;5;124m'\u001b[39m\u001b[38;5;124mdifferent key!\u001b[39m\u001b[38;5;124m'\u001b[39m)\n",
      "\u001b[1;31mTypeError\u001b[0m: Expected encrypted_number to be an EncryptedNumber not: <class 'int'>"
     ]
    }
   ],
   "source": [
    "decrypt_message(private_key, cipher1.ciphertext() + cipher2.ciphertext())"
   ]
  },
  {
   "cell_type": "code",
   "execution_count": 66,
   "metadata": {},
   "outputs": [
    {
     "data": {
      "text/html": [
       "<div>\n",
       "<style scoped>\n",
       "    .dataframe tbody tr th:only-of-type {\n",
       "        vertical-align: middle;\n",
       "    }\n",
       "\n",
       "    .dataframe tbody tr th {\n",
       "        vertical-align: top;\n",
       "    }\n",
       "\n",
       "    .dataframe thead th {\n",
       "        text-align: right;\n",
       "    }\n",
       "</style>\n",
       "<table border=\"1\" class=\"dataframe\">\n",
       "  <thead>\n",
       "    <tr style=\"text-align: right;\">\n",
       "      <th></th>\n",
       "      <th>A</th>\n",
       "      <th>B</th>\n",
       "    </tr>\n",
       "  </thead>\n",
       "  <tbody>\n",
       "    <tr>\n",
       "      <th>0</th>\n",
       "      <td>1</td>\n",
       "      <td>4</td>\n",
       "    </tr>\n",
       "    <tr>\n",
       "      <th>1</th>\n",
       "      <td>2</td>\n",
       "      <td>5</td>\n",
       "    </tr>\n",
       "    <tr>\n",
       "      <th>2</th>\n",
       "      <td>3</td>\n",
       "      <td>6</td>\n",
       "    </tr>\n",
       "  </tbody>\n",
       "</table>\n",
       "</div>"
      ],
      "text/plain": [
       "   A  B\n",
       "0  1  4\n",
       "1  2  5\n",
       "2  3  6"
      ]
     },
     "execution_count": 66,
     "metadata": {},
     "output_type": "execute_result"
    }
   ],
   "source": [
    "import pandas as pd\n",
    "df = pd.DataFrame({'A': [1, 2, 3], 'B': [4, 5, 6]})\n",
    "df"
   ]
  },
  {
   "cell_type": "code",
   "execution_count": 67,
   "metadata": {},
   "outputs": [],
   "source": [
    "df['A'] = df['A'].apply(lambda x: encrypt_message(public_key, x))\n",
    "df['B'] = df['B'].apply(lambda x: encrypt_message(public_key, x))"
   ]
  },
  {
   "cell_type": "code",
   "execution_count": 69,
   "metadata": {},
   "outputs": [
    {
     "data": {
      "text/html": [
       "<div>\n",
       "<style scoped>\n",
       "    .dataframe tbody tr th:only-of-type {\n",
       "        vertical-align: middle;\n",
       "    }\n",
       "\n",
       "    .dataframe tbody tr th {\n",
       "        vertical-align: top;\n",
       "    }\n",
       "\n",
       "    .dataframe thead th {\n",
       "        text-align: right;\n",
       "    }\n",
       "</style>\n",
       "<table border=\"1\" class=\"dataframe\">\n",
       "  <thead>\n",
       "    <tr style=\"text-align: right;\">\n",
       "      <th></th>\n",
       "      <th>A</th>\n",
       "      <th>B</th>\n",
       "      <th>C</th>\n",
       "    </tr>\n",
       "  </thead>\n",
       "  <tbody>\n",
       "    <tr>\n",
       "      <th>0</th>\n",
       "      <td>&lt;phe.paillier.EncryptedNumber object at 0x0000...</td>\n",
       "      <td>&lt;phe.paillier.EncryptedNumber object at 0x0000...</td>\n",
       "      <td>5</td>\n",
       "    </tr>\n",
       "    <tr>\n",
       "      <th>1</th>\n",
       "      <td>&lt;phe.paillier.EncryptedNumber object at 0x0000...</td>\n",
       "      <td>&lt;phe.paillier.EncryptedNumber object at 0x0000...</td>\n",
       "      <td>7</td>\n",
       "    </tr>\n",
       "    <tr>\n",
       "      <th>2</th>\n",
       "      <td>&lt;phe.paillier.EncryptedNumber object at 0x0000...</td>\n",
       "      <td>&lt;phe.paillier.EncryptedNumber object at 0x0000...</td>\n",
       "      <td>9</td>\n",
       "    </tr>\n",
       "  </tbody>\n",
       "</table>\n",
       "</div>"
      ],
      "text/plain": [
       "                                                   A  \\\n",
       "0  <phe.paillier.EncryptedNumber object at 0x0000...   \n",
       "1  <phe.paillier.EncryptedNumber object at 0x0000...   \n",
       "2  <phe.paillier.EncryptedNumber object at 0x0000...   \n",
       "\n",
       "                                                   B  C  \n",
       "0  <phe.paillier.EncryptedNumber object at 0x0000...  5  \n",
       "1  <phe.paillier.EncryptedNumber object at 0x0000...  7  \n",
       "2  <phe.paillier.EncryptedNumber object at 0x0000...  9  "
      ]
     },
     "execution_count": 69,
     "metadata": {},
     "output_type": "execute_result"
    }
   ],
   "source": [
    "df['C'] = df['A'] + df['B']\n",
    "df['C'] = df['C'].apply(lambda x: decrypt_message(private_key, x))\n",
    "df"
   ]
  },
  {
   "cell_type": "code",
   "execution_count": 62,
   "metadata": {},
   "outputs": [],
   "source": [
    "df.to_csv(\"encrypted_data.csv\", index=False)"
   ]
  },
  {
   "cell_type": "code",
   "execution_count": 64,
   "metadata": {},
   "outputs": [
    {
     "data": {
      "text/plain": [
       "A    object\n",
       "B    object\n",
       "dtype: object"
      ]
     },
     "execution_count": 64,
     "metadata": {},
     "output_type": "execute_result"
    }
   ],
   "source": [
    "new_df = pd.read_csv(\"encrypted_data.csv\")\n",
    "new_df.dtypes"
   ]
  },
  {
   "cell_type": "code",
   "execution_count": 65,
   "metadata": {},
   "outputs": [
    {
     "ename": "TypeError",
     "evalue": "Expected encrypted_number to be an EncryptedNumber not: <class 'str'>",
     "output_type": "error",
     "traceback": [
      "\u001b[1;31m---------------------------------------------------------------------------\u001b[0m",
      "\u001b[1;31mTypeError\u001b[0m                                 Traceback (most recent call last)",
      "Cell \u001b[1;32mIn[65], line 4\u001b[0m\n\u001b[0;32m      1\u001b[0m \u001b[38;5;28;01mdef\u001b[39;00m \u001b[38;5;21mdecrypt_column\u001b[39m(column):\n\u001b[0;32m      2\u001b[0m     \u001b[38;5;28;01mreturn\u001b[39;00m column\u001b[38;5;241m.\u001b[39mapply(\u001b[38;5;28;01mlambda\u001b[39;00m x: decrypt_message(private_key, x))\n\u001b[1;32m----> 4\u001b[0m new_df[\u001b[38;5;124m'\u001b[39m\u001b[38;5;124mA\u001b[39m\u001b[38;5;124m'\u001b[39m] \u001b[38;5;241m=\u001b[39m \u001b[43mdecrypt_column\u001b[49m\u001b[43m(\u001b[49m\u001b[43mnew_df\u001b[49m\u001b[43m[\u001b[49m\u001b[38;5;124;43m'\u001b[39;49m\u001b[38;5;124;43mA\u001b[39;49m\u001b[38;5;124;43m'\u001b[39;49m\u001b[43m]\u001b[49m\u001b[43m)\u001b[49m\n\u001b[0;32m      5\u001b[0m new_df[\u001b[38;5;124m'\u001b[39m\u001b[38;5;124mB\u001b[39m\u001b[38;5;124m'\u001b[39m] \u001b[38;5;241m=\u001b[39m decrypt_column(new_df[\u001b[38;5;124m'\u001b[39m\u001b[38;5;124mB\u001b[39m\u001b[38;5;124m'\u001b[39m])\n\u001b[0;32m      6\u001b[0m new_df\n",
      "Cell \u001b[1;32mIn[65], line 2\u001b[0m, in \u001b[0;36mdecrypt_column\u001b[1;34m(column)\u001b[0m\n\u001b[0;32m      1\u001b[0m \u001b[38;5;28;01mdef\u001b[39;00m \u001b[38;5;21mdecrypt_column\u001b[39m(column):\n\u001b[1;32m----> 2\u001b[0m     \u001b[38;5;28;01mreturn\u001b[39;00m \u001b[43mcolumn\u001b[49m\u001b[38;5;241;43m.\u001b[39;49m\u001b[43mapply\u001b[49m\u001b[43m(\u001b[49m\u001b[38;5;28;43;01mlambda\u001b[39;49;00m\u001b[43m \u001b[49m\u001b[43mx\u001b[49m\u001b[43m:\u001b[49m\u001b[43m \u001b[49m\u001b[43mdecrypt_message\u001b[49m\u001b[43m(\u001b[49m\u001b[43mprivate_key\u001b[49m\u001b[43m,\u001b[49m\u001b[43m \u001b[49m\u001b[43mx\u001b[49m\u001b[43m)\u001b[49m\u001b[43m)\u001b[49m\n",
      "File \u001b[1;32m~\\AppData\\Roaming\\Python\\Python311\\site-packages\\pandas\\core\\series.py:4764\u001b[0m, in \u001b[0;36mSeries.apply\u001b[1;34m(self, func, convert_dtype, args, by_row, **kwargs)\u001b[0m\n\u001b[0;32m   4629\u001b[0m \u001b[38;5;28;01mdef\u001b[39;00m \u001b[38;5;21mapply\u001b[39m(\n\u001b[0;32m   4630\u001b[0m     \u001b[38;5;28mself\u001b[39m,\n\u001b[0;32m   4631\u001b[0m     func: AggFuncType,\n\u001b[1;32m   (...)\u001b[0m\n\u001b[0;32m   4636\u001b[0m     \u001b[38;5;241m*\u001b[39m\u001b[38;5;241m*\u001b[39mkwargs,\n\u001b[0;32m   4637\u001b[0m ) \u001b[38;5;241m-\u001b[39m\u001b[38;5;241m>\u001b[39m DataFrame \u001b[38;5;241m|\u001b[39m Series:\n\u001b[0;32m   4638\u001b[0m \u001b[38;5;250m    \u001b[39m\u001b[38;5;124;03m\"\"\"\u001b[39;00m\n\u001b[0;32m   4639\u001b[0m \u001b[38;5;124;03m    Invoke function on values of Series.\u001b[39;00m\n\u001b[0;32m   4640\u001b[0m \n\u001b[1;32m   (...)\u001b[0m\n\u001b[0;32m   4755\u001b[0m \u001b[38;5;124;03m    dtype: float64\u001b[39;00m\n\u001b[0;32m   4756\u001b[0m \u001b[38;5;124;03m    \"\"\"\u001b[39;00m\n\u001b[0;32m   4757\u001b[0m     \u001b[38;5;28;01mreturn\u001b[39;00m \u001b[43mSeriesApply\u001b[49m\u001b[43m(\u001b[49m\n\u001b[0;32m   4758\u001b[0m \u001b[43m        \u001b[49m\u001b[38;5;28;43mself\u001b[39;49m\u001b[43m,\u001b[49m\n\u001b[0;32m   4759\u001b[0m \u001b[43m        \u001b[49m\u001b[43mfunc\u001b[49m\u001b[43m,\u001b[49m\n\u001b[0;32m   4760\u001b[0m \u001b[43m        \u001b[49m\u001b[43mconvert_dtype\u001b[49m\u001b[38;5;241;43m=\u001b[39;49m\u001b[43mconvert_dtype\u001b[49m\u001b[43m,\u001b[49m\n\u001b[0;32m   4761\u001b[0m \u001b[43m        \u001b[49m\u001b[43mby_row\u001b[49m\u001b[38;5;241;43m=\u001b[39;49m\u001b[43mby_row\u001b[49m\u001b[43m,\u001b[49m\n\u001b[0;32m   4762\u001b[0m \u001b[43m        \u001b[49m\u001b[43margs\u001b[49m\u001b[38;5;241;43m=\u001b[39;49m\u001b[43margs\u001b[49m\u001b[43m,\u001b[49m\n\u001b[0;32m   4763\u001b[0m \u001b[43m        \u001b[49m\u001b[43mkwargs\u001b[49m\u001b[38;5;241;43m=\u001b[39;49m\u001b[43mkwargs\u001b[49m\u001b[43m,\u001b[49m\n\u001b[1;32m-> 4764\u001b[0m \u001b[43m    \u001b[49m\u001b[43m)\u001b[49m\u001b[38;5;241;43m.\u001b[39;49m\u001b[43mapply\u001b[49m\u001b[43m(\u001b[49m\u001b[43m)\u001b[49m\n",
      "File \u001b[1;32m~\\AppData\\Roaming\\Python\\Python311\\site-packages\\pandas\\core\\apply.py:1209\u001b[0m, in \u001b[0;36mSeriesApply.apply\u001b[1;34m(self)\u001b[0m\n\u001b[0;32m   1206\u001b[0m     \u001b[38;5;28;01mreturn\u001b[39;00m \u001b[38;5;28mself\u001b[39m\u001b[38;5;241m.\u001b[39mapply_compat()\n\u001b[0;32m   1208\u001b[0m \u001b[38;5;66;03m# self.func is Callable\u001b[39;00m\n\u001b[1;32m-> 1209\u001b[0m \u001b[38;5;28;01mreturn\u001b[39;00m \u001b[38;5;28;43mself\u001b[39;49m\u001b[38;5;241;43m.\u001b[39;49m\u001b[43mapply_standard\u001b[49m\u001b[43m(\u001b[49m\u001b[43m)\u001b[49m\n",
      "File \u001b[1;32m~\\AppData\\Roaming\\Python\\Python311\\site-packages\\pandas\\core\\apply.py:1289\u001b[0m, in \u001b[0;36mSeriesApply.apply_standard\u001b[1;34m(self)\u001b[0m\n\u001b[0;32m   1283\u001b[0m \u001b[38;5;66;03m# row-wise access\u001b[39;00m\n\u001b[0;32m   1284\u001b[0m \u001b[38;5;66;03m# apply doesn't have a `na_action` keyword and for backward compat reasons\u001b[39;00m\n\u001b[0;32m   1285\u001b[0m \u001b[38;5;66;03m# we need to give `na_action=\"ignore\"` for categorical data.\u001b[39;00m\n\u001b[0;32m   1286\u001b[0m \u001b[38;5;66;03m# TODO: remove the `na_action=\"ignore\"` when that default has been changed in\u001b[39;00m\n\u001b[0;32m   1287\u001b[0m \u001b[38;5;66;03m#  Categorical (GH51645).\u001b[39;00m\n\u001b[0;32m   1288\u001b[0m action \u001b[38;5;241m=\u001b[39m \u001b[38;5;124m\"\u001b[39m\u001b[38;5;124mignore\u001b[39m\u001b[38;5;124m\"\u001b[39m \u001b[38;5;28;01mif\u001b[39;00m \u001b[38;5;28misinstance\u001b[39m(obj\u001b[38;5;241m.\u001b[39mdtype, CategoricalDtype) \u001b[38;5;28;01melse\u001b[39;00m \u001b[38;5;28;01mNone\u001b[39;00m\n\u001b[1;32m-> 1289\u001b[0m mapped \u001b[38;5;241m=\u001b[39m \u001b[43mobj\u001b[49m\u001b[38;5;241;43m.\u001b[39;49m\u001b[43m_map_values\u001b[49m\u001b[43m(\u001b[49m\n\u001b[0;32m   1290\u001b[0m \u001b[43m    \u001b[49m\u001b[43mmapper\u001b[49m\u001b[38;5;241;43m=\u001b[39;49m\u001b[43mcurried\u001b[49m\u001b[43m,\u001b[49m\u001b[43m \u001b[49m\u001b[43mna_action\u001b[49m\u001b[38;5;241;43m=\u001b[39;49m\u001b[43maction\u001b[49m\u001b[43m,\u001b[49m\u001b[43m \u001b[49m\u001b[43mconvert\u001b[49m\u001b[38;5;241;43m=\u001b[39;49m\u001b[38;5;28;43mself\u001b[39;49m\u001b[38;5;241;43m.\u001b[39;49m\u001b[43mconvert_dtype\u001b[49m\n\u001b[0;32m   1291\u001b[0m \u001b[43m\u001b[49m\u001b[43m)\u001b[49m\n\u001b[0;32m   1293\u001b[0m \u001b[38;5;28;01mif\u001b[39;00m \u001b[38;5;28mlen\u001b[39m(mapped) \u001b[38;5;129;01mand\u001b[39;00m \u001b[38;5;28misinstance\u001b[39m(mapped[\u001b[38;5;241m0\u001b[39m], ABCSeries):\n\u001b[0;32m   1294\u001b[0m     \u001b[38;5;66;03m# GH#43986 Need to do list(mapped) in order to get treated as nested\u001b[39;00m\n\u001b[0;32m   1295\u001b[0m     \u001b[38;5;66;03m#  See also GH#25959 regarding EA support\u001b[39;00m\n\u001b[0;32m   1296\u001b[0m     \u001b[38;5;28;01mreturn\u001b[39;00m obj\u001b[38;5;241m.\u001b[39m_constructor_expanddim(\u001b[38;5;28mlist\u001b[39m(mapped), index\u001b[38;5;241m=\u001b[39mobj\u001b[38;5;241m.\u001b[39mindex)\n",
      "File \u001b[1;32m~\\AppData\\Roaming\\Python\\Python311\\site-packages\\pandas\\core\\base.py:921\u001b[0m, in \u001b[0;36mIndexOpsMixin._map_values\u001b[1;34m(self, mapper, na_action, convert)\u001b[0m\n\u001b[0;32m    918\u001b[0m \u001b[38;5;28;01mif\u001b[39;00m \u001b[38;5;28misinstance\u001b[39m(arr, ExtensionArray):\n\u001b[0;32m    919\u001b[0m     \u001b[38;5;28;01mreturn\u001b[39;00m arr\u001b[38;5;241m.\u001b[39mmap(mapper, na_action\u001b[38;5;241m=\u001b[39mna_action)\n\u001b[1;32m--> 921\u001b[0m \u001b[38;5;28;01mreturn\u001b[39;00m \u001b[43malgorithms\u001b[49m\u001b[38;5;241;43m.\u001b[39;49m\u001b[43mmap_array\u001b[49m\u001b[43m(\u001b[49m\u001b[43marr\u001b[49m\u001b[43m,\u001b[49m\u001b[43m \u001b[49m\u001b[43mmapper\u001b[49m\u001b[43m,\u001b[49m\u001b[43m \u001b[49m\u001b[43mna_action\u001b[49m\u001b[38;5;241;43m=\u001b[39;49m\u001b[43mna_action\u001b[49m\u001b[43m,\u001b[49m\u001b[43m \u001b[49m\u001b[43mconvert\u001b[49m\u001b[38;5;241;43m=\u001b[39;49m\u001b[43mconvert\u001b[49m\u001b[43m)\u001b[49m\n",
      "File \u001b[1;32m~\\AppData\\Roaming\\Python\\Python311\\site-packages\\pandas\\core\\algorithms.py:1814\u001b[0m, in \u001b[0;36mmap_array\u001b[1;34m(arr, mapper, na_action, convert)\u001b[0m\n\u001b[0;32m   1812\u001b[0m values \u001b[38;5;241m=\u001b[39m arr\u001b[38;5;241m.\u001b[39mastype(\u001b[38;5;28mobject\u001b[39m, copy\u001b[38;5;241m=\u001b[39m\u001b[38;5;28;01mFalse\u001b[39;00m)\n\u001b[0;32m   1813\u001b[0m \u001b[38;5;28;01mif\u001b[39;00m na_action \u001b[38;5;129;01mis\u001b[39;00m \u001b[38;5;28;01mNone\u001b[39;00m:\n\u001b[1;32m-> 1814\u001b[0m     \u001b[38;5;28;01mreturn\u001b[39;00m \u001b[43mlib\u001b[49m\u001b[38;5;241;43m.\u001b[39;49m\u001b[43mmap_infer\u001b[49m\u001b[43m(\u001b[49m\u001b[43mvalues\u001b[49m\u001b[43m,\u001b[49m\u001b[43m \u001b[49m\u001b[43mmapper\u001b[49m\u001b[43m,\u001b[49m\u001b[43m \u001b[49m\u001b[43mconvert\u001b[49m\u001b[38;5;241;43m=\u001b[39;49m\u001b[43mconvert\u001b[49m\u001b[43m)\u001b[49m\n\u001b[0;32m   1815\u001b[0m \u001b[38;5;28;01melse\u001b[39;00m:\n\u001b[0;32m   1816\u001b[0m     \u001b[38;5;28;01mreturn\u001b[39;00m lib\u001b[38;5;241m.\u001b[39mmap_infer_mask(\n\u001b[0;32m   1817\u001b[0m         values, mapper, mask\u001b[38;5;241m=\u001b[39misna(values)\u001b[38;5;241m.\u001b[39mview(np\u001b[38;5;241m.\u001b[39muint8), convert\u001b[38;5;241m=\u001b[39mconvert\n\u001b[0;32m   1818\u001b[0m     )\n",
      "File \u001b[1;32mlib.pyx:2926\u001b[0m, in \u001b[0;36mpandas._libs.lib.map_infer\u001b[1;34m()\u001b[0m\n",
      "Cell \u001b[1;32mIn[65], line 2\u001b[0m, in \u001b[0;36mdecrypt_column.<locals>.<lambda>\u001b[1;34m(x)\u001b[0m\n\u001b[0;32m      1\u001b[0m \u001b[38;5;28;01mdef\u001b[39;00m \u001b[38;5;21mdecrypt_column\u001b[39m(column):\n\u001b[1;32m----> 2\u001b[0m     \u001b[38;5;28;01mreturn\u001b[39;00m column\u001b[38;5;241m.\u001b[39mapply(\u001b[38;5;28;01mlambda\u001b[39;00m x: \u001b[43mdecrypt_message\u001b[49m\u001b[43m(\u001b[49m\u001b[43mprivate_key\u001b[49m\u001b[43m,\u001b[49m\u001b[43m \u001b[49m\u001b[43mx\u001b[49m\u001b[43m)\u001b[49m)\n",
      "Cell \u001b[1;32mIn[11], line 14\u001b[0m, in \u001b[0;36mdecrypt_message\u001b[1;34m(private_key, encrypted_message)\u001b[0m\n\u001b[0;32m     13\u001b[0m \u001b[38;5;28;01mdef\u001b[39;00m \u001b[38;5;21mdecrypt_message\u001b[39m(private_key, encrypted_message):\n\u001b[1;32m---> 14\u001b[0m     \u001b[38;5;28;01mreturn\u001b[39;00m \u001b[43mprivate_key\u001b[49m\u001b[38;5;241;43m.\u001b[39;49m\u001b[43mdecrypt\u001b[49m\u001b[43m(\u001b[49m\u001b[43mencrypted_message\u001b[49m\u001b[43m)\u001b[49m\n",
      "File \u001b[1;32m~\\AppData\\Roaming\\Python\\Python311\\site-packages\\phe\\paillier.py:290\u001b[0m, in \u001b[0;36mPaillierPrivateKey.decrypt\u001b[1;34m(self, encrypted_number)\u001b[0m\n\u001b[0;32m    268\u001b[0m \u001b[38;5;28;01mdef\u001b[39;00m \u001b[38;5;21mdecrypt\u001b[39m(\u001b[38;5;28mself\u001b[39m, encrypted_number):\n\u001b[0;32m    269\u001b[0m \u001b[38;5;250m    \u001b[39m\u001b[38;5;124;03m\"\"\"Return the decrypted & decoded plaintext of *encrypted_number*.\u001b[39;00m\n\u001b[0;32m    270\u001b[0m \n\u001b[0;32m    271\u001b[0m \u001b[38;5;124;03m    Uses the default :class:`EncodedNumber`, if using an alternative encoding\u001b[39;00m\n\u001b[1;32m   (...)\u001b[0m\n\u001b[0;32m    288\u001b[0m \u001b[38;5;124;03m        different key.\u001b[39;00m\n\u001b[0;32m    289\u001b[0m \u001b[38;5;124;03m    \"\"\"\u001b[39;00m\n\u001b[1;32m--> 290\u001b[0m     encoded \u001b[38;5;241m=\u001b[39m \u001b[38;5;28;43mself\u001b[39;49m\u001b[38;5;241;43m.\u001b[39;49m\u001b[43mdecrypt_encoded\u001b[49m\u001b[43m(\u001b[49m\u001b[43mencrypted_number\u001b[49m\u001b[43m)\u001b[49m\n\u001b[0;32m    291\u001b[0m     \u001b[38;5;28;01mreturn\u001b[39;00m encoded\u001b[38;5;241m.\u001b[39mdecode()\n",
      "File \u001b[1;32m~\\AppData\\Roaming\\Python\\Python311\\site-packages\\phe\\paillier.py:314\u001b[0m, in \u001b[0;36mPaillierPrivateKey.decrypt_encoded\u001b[1;34m(self, encrypted_number, Encoding)\u001b[0m\n\u001b[0;32m    294\u001b[0m \u001b[38;5;250m\u001b[39m\u001b[38;5;124;03m\"\"\"Return the :class:`EncodedNumber` decrypted from *encrypted_number*.\u001b[39;00m\n\u001b[0;32m    295\u001b[0m \n\u001b[0;32m    296\u001b[0m \u001b[38;5;124;03mArgs:\u001b[39;00m\n\u001b[1;32m   (...)\u001b[0m\n\u001b[0;32m    311\u001b[0m \u001b[38;5;124;03m    different key.\u001b[39;00m\n\u001b[0;32m    312\u001b[0m \u001b[38;5;124;03m\"\"\"\u001b[39;00m\n\u001b[0;32m    313\u001b[0m \u001b[38;5;28;01mif\u001b[39;00m \u001b[38;5;129;01mnot\u001b[39;00m \u001b[38;5;28misinstance\u001b[39m(encrypted_number, EncryptedNumber):\n\u001b[1;32m--> 314\u001b[0m     \u001b[38;5;28;01mraise\u001b[39;00m \u001b[38;5;167;01mTypeError\u001b[39;00m(\u001b[38;5;124m'\u001b[39m\u001b[38;5;124mExpected encrypted_number to be an EncryptedNumber\u001b[39m\u001b[38;5;124m'\u001b[39m\n\u001b[0;32m    315\u001b[0m                     \u001b[38;5;124m'\u001b[39m\u001b[38;5;124m not: \u001b[39m\u001b[38;5;132;01m%s\u001b[39;00m\u001b[38;5;124m'\u001b[39m \u001b[38;5;241m%\u001b[39m \u001b[38;5;28mtype\u001b[39m(encrypted_number))\n\u001b[0;32m    317\u001b[0m \u001b[38;5;28;01mif\u001b[39;00m \u001b[38;5;28mself\u001b[39m\u001b[38;5;241m.\u001b[39mpublic_key \u001b[38;5;241m!=\u001b[39m encrypted_number\u001b[38;5;241m.\u001b[39mpublic_key:\n\u001b[0;32m    318\u001b[0m     \u001b[38;5;28;01mraise\u001b[39;00m \u001b[38;5;167;01mValueError\u001b[39;00m(\u001b[38;5;124m'\u001b[39m\u001b[38;5;124mencrypted_number was encrypted against a \u001b[39m\u001b[38;5;124m'\u001b[39m\n\u001b[0;32m    319\u001b[0m                      \u001b[38;5;124m'\u001b[39m\u001b[38;5;124mdifferent key!\u001b[39m\u001b[38;5;124m'\u001b[39m)\n",
      "\u001b[1;31mTypeError\u001b[0m: Expected encrypted_number to be an EncryptedNumber not: <class 'str'>"
     ]
    }
   ],
   "source": [
    "def decrypt_column(column):\n",
    "    return column.apply(lambda x: decrypt_message(private_key, x))\n",
    "\n",
    "new_df['A'] = decrypt_column(new_df['A'])\n",
    "new_df['B'] = decrypt_column(new_df['B'])\n",
    "new_df"
   ]
  }
 ],
 "metadata": {
  "kernelspec": {
   "display_name": "Python 3",
   "language": "python",
   "name": "python3"
  },
  "language_info": {
   "codemirror_mode": {
    "name": "ipython",
    "version": 3
   },
   "file_extension": ".py",
   "mimetype": "text/x-python",
   "name": "python",
   "nbconvert_exporter": "python",
   "pygments_lexer": "ipython3",
   "version": "3.11.8"
  }
 },
 "nbformat": 4,
 "nbformat_minor": 2
}
